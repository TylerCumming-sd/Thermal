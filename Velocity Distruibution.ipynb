{
 "cells": [
  {
   "cell_type": "code",
   "execution_count": 2,
   "id": "c3feef4f-e44d-4b38-9f6f-37fd724be852",
   "metadata": {},
   "outputs": [],
   "source": [
    "#Include Relevant Libraries\n",
    "import numpy as np\n",
    "import matplotlib.pyplot as plt\n",
    "from scipy.constants import k as k_B\n",
    "import ipywidgets as widgets\n",
    "from ipywidgets import interact"
   ]
  },
  {
   "cell_type": "markdown",
   "id": "920bd3e0-7a70-490d-bc0e-5d028774ff80",
   "metadata": {},
   "source": [
    "# Modelling of the Velocity Distrubution in Gases\n",
    "## Tyler Cumming"
   ]
  },
  {
   "cell_type": "markdown",
   "id": "b4762299-4990-4e3d-adf1-9f03d2ec9243",
   "metadata": {},
   "source": [
    "### Project Synopsis\n",
    "\n",
    "This project delves into the statistical distributions that describe the motion of particles in an ideal gas, modeled using the **Maxwell-Boltzmann distribution**. This distribution provides a probabilistic view of how particle speeds are spread at a given temperature, based on classical statistical mechanics.\n",
    "\n",
    "Several distinct velocities can be defined when analyzing particle motion in a gas, including:\n",
    "\n",
    "- **Most probable speed** ($v_{mp}$): the speed at which the distribution peaks.\n",
    "- **Root-mean-square speed** ($v_{rms}$): the square root of the average of the squares of particle speeds, representing an effective average speed.\n",
    "\n",
    "In this project, an ideal gas is simulated, and the statistical relationships between these characteristic velocities are explored. Additionally, the model allows for adjustments to key parameters, such as **temperature** and **molecular mass**, to investigate how these factors influence the velocity distribution and associated physical quantities.\n"
   ]
  },
  {
   "cell_type": "markdown",
   "id": "81de70d4-874b-40f8-90ce-608e01f5abdf",
   "metadata": {},
   "source": [
    "### Theory and Background\n",
    "\n",
    "The motion of particles at thermal equilibrium can be described using the Maxwell-Boltzmann Distrubtion.\n",
    "\n",
    "$$f(v) = 4\\pi \\left( \\frac{m}{2\\pi k_B T} \\right)^{3/2} v^2 e^{-\\frac{mv^2}{2k_B T}}$$\n",
    "\n",
    "Where:\n",
    "\n",
    "$f(v)$ - The probability density function for finding a specific velocity at some temperature\n",
    "$m$ - Mass of particle\n",
    "$k_B$ - Boltzmann's constant\n",
    "$v$ - Velocity of particle\n",
    "$T$ - Temperature \n",
    "\n",
    "The distrubution is normalised i.e. there is a 100% you will find the particle at some point of the distrubution.\n",
    "\n",
    "#### Characteristic Velocites\n",
    "\n",
    "Mean Velocity - the 'average' velocity of the particles calculated using the mean. $$  \\bar{v} = \\sqrt{\\frac{8k_B T}{\\pi m}}$$\n",
    "\n",
    "Most Probable Velocity - the velocity found when maximising $f(v)$. I.e. solving $\\frac{df(v)}{dv}=0$. $$v_{mp} = \\sqrt{\\frac{2k_B T}{m}}$$\n",
    "\n",
    "Root Mean Square Velocity - The square root of the average of the square of speeds. $$  v_{rms} = \\sqrt{\\frac{3k_B T}{m}}$$.\n",
    "\n",
    "All these velocities are correct and give different insights into the statistical nature of the distrubutions of a real ideal gas.\n",
    "\n",
    "#### Temperature and Mass Dependence\n",
    "\n",
    "- **Higher temperatures** shift the distribution to higher speeds and broaden the spread of particle velocities.\n",
    "- **Lighter particles** (smaller \\( m \\)) move faster on average than heavier ones at the same temperature.\n",
    "\n",
    "This theoretical framework will be used as the basis for both analytical and numerical simulations in the following sections."
   ]
  },
  {
   "attachments": {
    "4367e1ce-b942-4ac3-a1c7-1d3d01d5f8d8.png": {
     "image/png": "[encoded data removed]"
    }
   },
   "cell_type": "markdown",
   "id": "2aca43e2-5c20-4006-bbde-6b37006a6a49",
   "metadata": {},
   "source": [
    "### Distrubution Plot\n",
    "\n",
    "The Maxwell-Boltzmann Distrubution follows a similar shape to the graph below. This graph also illustrates the positions for the different characteristic velocties of the gas (albeit with slightly different nomencluture as what was defined in the previous section).\n",
    "\n",
    "![unnamed.png](attachment:4367e1ce-b942-4ac3-a1c7-1d3d01d5f8d8.png)"
   ]
  },
  {
   "cell_type": "markdown",
   "id": "cbe125e9-b55e-4c64-b79a-4ca4f6a190e7",
   "metadata": {},
   "source": [
    "### Numerical Solution"
   ]
  },
  {
   "cell_type": "code",
   "execution_count": 6,
   "id": "288b08b6-a23a-45cd-b7f6-49995cd16a22",
   "metadata": {},
   "outputs": [
    {
     "data": {
      "application/vnd.jupyter.widget-view+json": {
       "model_id": "bf51fc74123e4591a3fb08da9169c4ec",
       "version_major": 2,
       "version_minor": 0
      },
      "text/plain": [
       "interactive(children=(FloatSlider(value=300.0, description='Temperature (K):', max=1000.0, min=100.0, step=10.…"
      ]
     },
     "metadata": {},
     "output_type": "display_data"
    },
    {
     "data": {
      "text/plain": [
       "<function __main__.plot(T, m)>"
      ]
     },
     "execution_count": 6,
     "metadata": {},
     "output_type": "execute_result"
    }
   ],
   "source": [
    "# Parameters\n",
    "v = np.linspace(0, 2000, 500)  # Range of possible velocities (m/s)\n",
    "\n",
    "# Define Maxwell-Boltzmann Distribution\n",
    "def maxwell_boltzmann(v, T, m):\n",
    "    A = 4 * np.pi * (m / (2 * np.pi * k_B * T))**(3/2)\n",
    "    return A * v**2 * np.exp(-m * v**2 / (2 * k_B * T))\n",
    "\n",
    "# Define Characteristic Velocities\n",
    "def char_v(T, m):\n",
    "    v_mean = np.sqrt((8 * k_B * T) / (np.pi * m))      # mean velocity\n",
    "    v_rms = np.sqrt((3 * k_B * T) / m)     # root-mean-square velocity\n",
    "    v_mp = np.sqrt((2 * k_B * T) / m)       # most probable velocity\n",
    "    return v_mean, v_rms, v_mp\n",
    "\n",
    "# Define the plotting function\n",
    "def plot(T, m):\n",
    "    # Calculate the Maxwell-Boltzmann distribution\n",
    "    f_v = maxwell_boltzmann(v, T, m)\n",
    "    \n",
    "    # Get characteristic velocities\n",
    "    v_mean, v_rms, v_mp = char_v(T, m)\n",
    "    \n",
    "    # Plotting the distribution and characteristic velocities\n",
    "    plt.figure(figsize=(10, 6))\n",
    "    plt.plot(v, f_v, label=\"Maxwell-Boltzmann Distribution\",color='black')\n",
    "    plt.axvline(v_mp, color='r', linestyle='--', label=f\"v_mp = {v_mp:.0f} m/s\")\n",
    "    plt.axvline(v_mean, color='cyan', linestyle='--', label=f\"v_mean = {v_mean:.0f} m/s\")\n",
    "    plt.axvline(v_rms, color='g', linestyle='--', label=f\"v_rms = {v_rms:.0f} m/s\")\n",
    "    plt.xlabel(\"Speed (m/s)\")\n",
    "    plt.ylabel(\"f(v)\")\n",
    "    plt.title(f\"Maxwell-Boltzmann Speed Distribution at T={T}K\")\n",
    "    plt.legend()\n",
    "    plt.grid(True)\n",
    "    plt.show()\n",
    "\n",
    "# Create sliders for temperature (T) and mass (m)\n",
    "temperature_slider = widgets.FloatSlider(value=300, min=100, max=1000, step=10, description=\"Temperature (K):\")\n",
    "mass_slider = widgets.FloatSlider(value=4.65e-26, min=1e-27, max=1e-25, step=1e-27, description=\"Mass (kg):\")\n",
    "\n",
    "# Use the interact function to link sliders with the plotting function\n",
    "interact(plot, T=temperature_slider, m=mass_slider)\n"
   ]
  },
  {
   "cell_type": "markdown",
   "id": "2aa66735-94bf-4851-b7b7-bc79aec08668",
   "metadata": {},
   "source": [
    "### Conclusion\n",
    "\n",
    "This project explored the **Maxwell-Boltzmann distribution** of velocities in an ideal gas. By adjusting the **temperature** and **molecular mass**, we observed:\n",
    "\n",
    "1. **Temperature**: As temperature increases, particle velocities increase, and the distribution becomes broader and flatter. All characteristic velocities (\\( v_{mp} \\), \\( v_{\\text{mean}} \\), and \\( v_{\\text{rms}} \\)) rise with temperature.\n",
    "   \n",
    "2. **Molecular Mass**: Lighter particles move faster at a given temperature, with the distribution shifting to higher velocities for smaller masses.\n",
    "\n",
    "Overall, the interactive simulation reinforced the impact of temperature and mass on the behavior of gases, demonstrating the importance of statistical distributions in describing particle motion.\n"
   ]
  },
  {
   "cell_type": "code",
   "execution_count": null,
   "id": "3002fbdb-1092-49df-96d7-92c6d7805d3f",
   "metadata": {},
   "outputs": [],
   "source": []
  }
 ],
 "metadata": {
  "kernelspec": {
   "display_name": "A345",
   "language": "python",
   "name": "a345"
  },
  "language_info": {
   "codemirror_mode": {
    "name": "ipython",
    "version": 3
   },
   "file_extension": ".py",
   "mimetype": "text/x-python",
   "name": "python",
   "nbconvert_exporter": "python",
   "pygments_lexer": "ipython3",
   "version": "3.9.21"
  }
 },
 "nbformat": 4,
 "nbformat_minor": 5
}
